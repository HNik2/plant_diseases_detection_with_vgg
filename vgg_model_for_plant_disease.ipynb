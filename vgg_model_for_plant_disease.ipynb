{
  "nbformat": 4,
  "nbformat_minor": 0,
  "metadata": {
    "colab": {
      "name": "vgg_model_for_plant_disease.ipynb",
      "provenance": [],
      "collapsed_sections": [],
      "include_colab_link": true
    },
    "kernelspec": {
      "name": "python3",
      "display_name": "Python 3"
    },
    "accelerator": "GPU"
  },
  "cells": [
    {
      "cell_type": "markdown",
      "metadata": {
        "id": "view-in-github",
        "colab_type": "text"
      },
      "source": [
        "<a href=\"https://colab.research.google.com/github/HNik2/plant_diseases_detection_with_vgg/blob/master/vgg_model_for_plant_disease.ipynb\" target=\"_parent\"><img src=\"https://colab.research.google.com/assets/colab-badge.svg\" alt=\"Open In Colab\"/></a>"
      ]
    },
    {
      "cell_type": "code",
      "metadata": {
        "id": "Wdu3VOH7QCbK",
        "colab_type": "code",
        "outputId": "290a3359-2638-46a3-a5c8-09605cb88d8d",
        "colab": {
          "base_uri": "https://localhost:8080/",
          "height": 34
        }
      },
      "source": [
        "# Import des bibliothèques nécessaire\n",
        "import numpy as np \n",
        "import pandas as pd \n",
        "import seaborn as sns\n",
        "import sys\n",
        "import os\n",
        "from numpy import load\n",
        "from matplotlib import pyplot\n",
        "from sklearn.model_selection import train_test_split\n",
        "from keras import backend\n",
        "from keras.layers import Dense\n",
        "from keras.layers import Flatten\n",
        "from keras.optimizers import SGD\n",
        "from keras.applications.vgg16 import VGG16\n",
        "from keras.models import Model\n",
        "from keras.preprocessing.image import ImageDataGenerator\n",
        "from keras.preprocessing.image import load_img\n",
        "from keras.preprocessing.image import img_to_array\n",
        "from keras.callbacks import ModelCheckpoint\n",
        "from keras.layers import Dropout\n",
        "from keras.layers.normalization import BatchNormalization\n"
      ],
      "execution_count": 0,
      "outputs": [
        {
          "output_type": "stream",
          "text": [
            "Using TensorFlow backend.\n"
          ],
          "name": "stderr"
        }
      ]
    },
    {
      "cell_type": "code",
      "metadata": {
        "id": "V1EzEI_aQoHL",
        "colab_type": "code",
        "outputId": "ca27c101-6a2b-4ba0-973c-7e23d93ed3ac",
        "colab": {
          "base_uri": "https://localhost:8080/",
          "height": 122
        }
      },
      "source": [
        "from google.colab import drive\n",
        "drive.mount('/content/drive')"
      ],
      "execution_count": 0,
      "outputs": [
        {
          "output_type": "stream",
          "text": [
            "Go to this URL in a browser: https://accounts.google.com/o/oauth2/auth?client_id=947318989803-6bn6qk8qdgf4n4g3pfee6491hc0brc4i.apps.googleusercontent.com&redirect_uri=urn%3Aietf%3Awg%3Aoauth%3A2.0%3Aoob&scope=email%20https%3A%2F%2Fwww.googleapis.com%2Fauth%2Fdocs.test%20https%3A%2F%2Fwww.googleapis.com%2Fauth%2Fdrive%20https%3A%2F%2Fwww.googleapis.com%2Fauth%2Fdrive.photos.readonly%20https%3A%2F%2Fwww.googleapis.com%2Fauth%2Fpeopleapi.readonly&response_type=code\n",
            "\n",
            "Enter your authorization code:\n",
            "··········\n",
            "Mounted at /content/drive\n"
          ],
          "name": "stdout"
        }
      ]
    },
    {
      "cell_type": "code",
      "metadata": {
        "id": "Uzi9wawZQsoR",
        "colab_type": "code",
        "colab": {}
      },
      "source": [
        "# Copie du jeu de données des maladies des plantes dans google colaboratory\n",
        "cp /content/drive/My\\ Drive/dataset.zip /"
      ],
      "execution_count": 0,
      "outputs": []
    },
    {
      "cell_type": "code",
      "metadata": {
        "id": "O4ZW9r_dRwXP",
        "colab_type": "code",
        "colab": {}
      },
      "source": [
        "# Copie du jeu de données de test des maladies des plantes dans google colaboratory\n",
        "cp /content/drive/My\\ Drive/test.zip /"
      ],
      "execution_count": 0,
      "outputs": []
    },
    {
      "cell_type": "code",
      "metadata": {
        "id": "d7aruIFXQyDd",
        "colab_type": "code",
        "colab": {}
      },
      "source": [
        "import IPython.display as display\n",
        "from PIL import Image\n",
        "import os\n",
        "import zipfile\n",
        "import pathlib\n",
        "\n",
        "#Décompression du jeu de données\n",
        "local_zip = '/dataset.zip'\n",
        "zip_ref = zipfile.ZipFile(local_zip, 'r')\n",
        "zip_ref.extractall('/')\n",
        "zip_ref.close()"
      ],
      "execution_count": 0,
      "outputs": []
    },
    {
      "cell_type": "code",
      "metadata": {
        "id": "2L57Z8x6RK7B",
        "colab_type": "code",
        "colab": {}
      },
      "source": [
        "#Décompression du jeu de données pour les test\n",
        "local_zip = '/test.zip'\n",
        "zip_ref = zipfile.ZipFile(local_zip, 'r')\n",
        "zip_ref.extractall('/')\n",
        "zip_ref.close()"
      ],
      "execution_count": 0,
      "outputs": []
    },
    {
      "cell_type": "code",
      "metadata": {
        "id": "Nc-L40dkSUsm",
        "colab_type": "code",
        "colab": {}
      },
      "source": [
        "#Définition des répertoires pour les données d'entrainement et les données de validation et pour les test\n",
        "train_dir = '/dataset/train/'\n",
        "valid_dir = '/dataset/valid/'\n",
        "test_dir = '/test'"
      ],
      "execution_count": 0,
      "outputs": []
    },
    {
      "cell_type": "code",
      "metadata": {
        "id": "VWnQdPvORbVk",
        "colab_type": "code",
        "colab": {}
      },
      "source": [
        "# definition du modèle cnn à partir du modèle vgg\n",
        "def define_model(in_shape=(224, 224, 3), out_shape=38):\n",
        "\t# chargement du modèle vgg\n",
        "  model = VGG16(weights='imagenet',input_shape=in_shape, include_top=False)\n",
        "  for layer in model.layers:\n",
        "    layer.trainable = False\n",
        "\t\n",
        "\t# permettre au dernier bloc vgg d'être entraînable\n",
        "  model.get_layer('block5_conv1').trainable=True\n",
        "  model.get_layer('block5_conv2').trainable=True\n",
        "  model.get_layer('block5_conv3').trainable=True\n",
        "  model.get_layer('block5_pool').trainable=True\n",
        "\n",
        "\t#Ajout des nouvelles couches de classification\n",
        "  flat1=Flatten()(model.layers[-1].output)\n",
        "  fcon1 = Dense(4096, activation='relu', kernel_initializer='he_uniform')(flat1)\n",
        "  fdrop1 = Dropout(0.25)(fcon1)\n",
        "  fbn1 = BatchNormalization()(fdrop1)\n",
        "  fcon2 = Dense(4096, activation='relu', kernel_initializer='he_uniform')(fbn1)\n",
        "  fdrop2 = Dropout(0.25)(fcon2)\n",
        "  fbn2 = BatchNormalization()(fdrop2)\n",
        "  output = Dense(out_shape, activation='softmax')(fbn2)\n",
        "  #définition de notre modèle\n",
        "  model = Model(inputs=model.inputs, outputs=output)\n",
        "\t#compiler le modèle\n",
        "  opt = SGD(lr=0.01, momentum=0.9,decay=0.005)\n",
        "  model.compile(optimizer=opt, loss='categorical_crossentropy', metrics=['accuracy'])\n",
        "  return model"
      ],
      "execution_count": 0,
      "outputs": []
    },
    {
      "cell_type": "code",
      "metadata": {
        "id": "H9ClUuIATXzE",
        "colab_type": "code",
        "colab": {}
      },
      "source": [
        "# fonction pour afficher les graphes de la précision et l'erreur de l'entrainement\n",
        "def summarize_diagnostics(history):\n",
        "  sns.set()\n",
        "  # plot le graphe pour l'erreur\n",
        "  pyplot.subplot(211)\n",
        "  pyplot.title('Cross Entropy Loss')\n",
        "  pyplot.plot(history.history['loss'], color='blue', label='train')\n",
        "  pyplot.plot(history.history['val_loss'], color='orange', label='valid')\n",
        "  pyplot.xlabel('Epoch')\n",
        "  pyplot.ylabel('Loss')\n",
        "  pyplot.legend()\n",
        "  # plot le graphe pour la précsion\n",
        "  pyplot.subplot(212)\n",
        "  pyplot.title('Classification Accuracy')\n",
        "  pyplot.plot(history.history['acc'], color='blue', label='train')\n",
        "  pyplot.plot(history.history['val_acc'], color='orange', label='valid')\n",
        "  pyplot.xlabel('Epoch')\n",
        "  pyplot.ylabel('Accuracy')\n",
        "  pyplot.legend()\n",
        "  # sauvegarder le résultat dans un fichier png\n",
        "  filename = sys.argv[0].split('/')[-1]\n",
        "  pyplot.savefig(filename + '_plot.png')\n",
        "  pyplot.close()"
      ],
      "execution_count": 0,
      "outputs": []
    },
    {
      "cell_type": "code",
      "metadata": {
        "id": "EH0c7NnpTahX",
        "colab_type": "code",
        "colab": {}
      },
      "source": [
        "# charger les données pour tester la prédiction de notre modèle\n",
        "def load_image(filename):\n",
        "\t# load the image\n",
        "\timg = load_img(filename, target_size=(224, 224))\n",
        "\t# convert to array\n",
        "\timg = img_to_array(img)\n",
        "\t# reshape into a single sample with 3 channels\n",
        "\timg = img.reshape(1, 224, 224, 3)\n",
        "    #rescale\n",
        "\timg = img/255\n",
        "\t# center pixel data\n",
        "\t#img = img.astype('float32')\n",
        "\t#img = img - [123.68, 116.779, 103.939]\n",
        "\treturn img    "
      ],
      "execution_count": 0,
      "outputs": []
    },
    {
      "cell_type": "code",
      "metadata": {
        "id": "I7Zh6QyWTfbQ",
        "colab_type": "code",
        "outputId": "d58e4545-4dd4-408c-93b2-e4cf953dcc4b",
        "colab": {
          "base_uri": "https://localhost:8080/",
          "height": 51
        }
      },
      "source": [
        "#prétraitement des images du jeu de données avant de le passer en entrée de notre modèle\n",
        "batch_size = 128\n",
        "\n",
        "train_datagen = ImageDataGenerator(rescale=1./255)\n",
        "                                   \n",
        "valid_datagen = ImageDataGenerator(rescale=1./255)\n",
        "\n",
        "training_iterator = train_datagen.flow_from_directory(train_dir,\n",
        "                                                 target_size=(224, 224),\n",
        "                                                 batch_size=batch_size,\n",
        "                                                 class_mode='categorical')\n",
        "\n",
        "test_iterator = valid_datagen.flow_from_directory(valid_dir,\n",
        "                                            target_size=(224, 224),\n",
        "                                            batch_size=batch_size,\n",
        "                                            class_mode='categorical')"
      ],
      "execution_count": 0,
      "outputs": [
        {
          "output_type": "stream",
          "text": [
            "Found 70295 images belonging to 38 classes.\n",
            "Found 17572 images belonging to 38 classes.\n"
          ],
          "name": "stdout"
        }
      ]
    },
    {
      "cell_type": "code",
      "metadata": {
        "id": "e1XAwK81TuOY",
        "colab_type": "code",
        "outputId": "cd73e5c3-805f-426f-a6c1-1882e8eb8da9",
        "colab": {
          "base_uri": "https://localhost:8080/",
          "height": 54
        }
      },
      "source": [
        "#Affichage des différentes classes du jeu de données\n",
        "class_dict = training_iterator.class_indices\n",
        "print(class_dict)"
      ],
      "execution_count": 0,
      "outputs": [
        {
          "output_type": "stream",
          "text": [
            "{'Apple___Apple_scab': 0, 'Apple___Black_rot': 1, 'Apple___Cedar_apple_rust': 2, 'Apple___healthy': 3, 'Blueberry___healthy': 4, 'Cherry_(including_sour)___Powdery_mildew': 5, 'Cherry_(including_sour)___healthy': 6, 'Corn_(maize)___Cercospora_leaf_spot Gray_leaf_spot': 7, 'Corn_(maize)___Common_rust_': 8, 'Corn_(maize)___Northern_Leaf_Blight': 9, 'Corn_(maize)___healthy': 10, 'Grape___Black_rot': 11, 'Grape___Esca_(Black_Measles)': 12, 'Grape___Leaf_blight_(Isariopsis_Leaf_Spot)': 13, 'Grape___healthy': 14, 'Orange___Haunglongbing_(Citrus_greening)': 15, 'Peach___Bacterial_spot': 16, 'Peach___healthy': 17, 'Pepper,_bell___Bacterial_spot': 18, 'Pepper,_bell___healthy': 19, 'Potato___Early_blight': 20, 'Potato___Late_blight': 21, 'Potato___healthy': 22, 'Raspberry___healthy': 23, 'Soybean___healthy': 24, 'Squash___Powdery_mildew': 25, 'Strawberry___Leaf_scorch': 26, 'Strawberry___healthy': 27, 'Tomato___Bacterial_spot': 28, 'Tomato___Early_blight': 29, 'Tomato___Late_blight': 30, 'Tomato___Leaf_Mold': 31, 'Tomato___Septoria_leaf_spot': 32, 'Tomato___Spider_mites Two-spotted_spider_mite': 33, 'Tomato___Target_Spot': 34, 'Tomato___Tomato_Yellow_Leaf_Curl_Virus': 35, 'Tomato___Tomato_mosaic_virus': 36, 'Tomato___healthy': 37}\n"
          ],
          "name": "stdout"
        }
      ]
    },
    {
      "cell_type": "code",
      "metadata": {
        "id": "tJgYStBaT4ue",
        "colab_type": "code",
        "outputId": "61cb20f0-61f9-4b7c-e09c-aeecf4870df4",
        "colab": {
          "base_uri": "https://localhost:8080/",
          "height": 54
        }
      },
      "source": [
        "#Affichage des différentes classes du jeu de données\n",
        "class_labels = list(class_dict.keys())\n",
        "print(class_labels)"
      ],
      "execution_count": 0,
      "outputs": [
        {
          "output_type": "stream",
          "text": [
            "['Apple___Apple_scab', 'Apple___Black_rot', 'Apple___Cedar_apple_rust', 'Apple___healthy', 'Blueberry___healthy', 'Cherry_(including_sour)___Powdery_mildew', 'Cherry_(including_sour)___healthy', 'Corn_(maize)___Cercospora_leaf_spot Gray_leaf_spot', 'Corn_(maize)___Common_rust_', 'Corn_(maize)___Northern_Leaf_Blight', 'Corn_(maize)___healthy', 'Grape___Black_rot', 'Grape___Esca_(Black_Measles)', 'Grape___Leaf_blight_(Isariopsis_Leaf_Spot)', 'Grape___healthy', 'Orange___Haunglongbing_(Citrus_greening)', 'Peach___Bacterial_spot', 'Peach___healthy', 'Pepper,_bell___Bacterial_spot', 'Pepper,_bell___healthy', 'Potato___Early_blight', 'Potato___Late_blight', 'Potato___healthy', 'Raspberry___healthy', 'Soybean___healthy', 'Squash___Powdery_mildew', 'Strawberry___Leaf_scorch', 'Strawberry___healthy', 'Tomato___Bacterial_spot', 'Tomato___Early_blight', 'Tomato___Late_blight', 'Tomato___Leaf_Mold', 'Tomato___Septoria_leaf_spot', 'Tomato___Spider_mites Two-spotted_spider_mite', 'Tomato___Target_Spot', 'Tomato___Tomato_Yellow_Leaf_Curl_Virus', 'Tomato___Tomato_mosaic_virus', 'Tomato___healthy']\n"
          ],
          "name": "stdout"
        }
      ]
    },
    {
      "cell_type": "code",
      "metadata": {
        "id": "sIUUclEXT0bn",
        "colab_type": "code",
        "outputId": "69b5c864-8506-40ac-c494-8289ec7a8f4c",
        "colab": {
          "base_uri": "https://localhost:8080/",
          "height": 1000
        }
      },
      "source": [
        "train_num_samples = training_iterator.samples\n",
        "valid_num_samples = test_iterator.samples\n",
        "# création du modèle\n",
        "model = define_model()\n",
        "model.summary()"
      ],
      "execution_count": 0,
      "outputs": [
        {
          "output_type": "stream",
          "text": [
            "WARNING:tensorflow:From /usr/local/lib/python3.6/dist-packages/keras/backend/tensorflow_backend.py:3733: calling dropout (from tensorflow.python.ops.nn_ops) with keep_prob is deprecated and will be removed in a future version.\n",
            "Instructions for updating:\n",
            "Please use `rate` instead of `keep_prob`. Rate should be set to `rate = 1 - keep_prob`.\n",
            "WARNING:tensorflow:From /usr/local/lib/python3.6/dist-packages/keras/optimizers.py:793: The name tf.train.Optimizer is deprecated. Please use tf.compat.v1.train.Optimizer instead.\n",
            "\n",
            "Model: \"model_1\"\n",
            "_________________________________________________________________\n",
            "Layer (type)                 Output Shape              Param #   \n",
            "=================================================================\n",
            "input_2 (InputLayer)         (None, 224, 224, 3)       0         \n",
            "_________________________________________________________________\n",
            "block1_conv1 (Conv2D)        (None, 224, 224, 64)      1792      \n",
            "_________________________________________________________________\n",
            "block1_conv2 (Conv2D)        (None, 224, 224, 64)      36928     \n",
            "_________________________________________________________________\n",
            "block1_pool (MaxPooling2D)   (None, 112, 112, 64)      0         \n",
            "_________________________________________________________________\n",
            "block2_conv1 (Conv2D)        (None, 112, 112, 128)     73856     \n",
            "_________________________________________________________________\n",
            "block2_conv2 (Conv2D)        (None, 112, 112, 128)     147584    \n",
            "_________________________________________________________________\n",
            "block2_pool (MaxPooling2D)   (None, 56, 56, 128)       0         \n",
            "_________________________________________________________________\n",
            "block3_conv1 (Conv2D)        (None, 56, 56, 256)       295168    \n",
            "_________________________________________________________________\n",
            "block3_conv2 (Conv2D)        (None, 56, 56, 256)       590080    \n",
            "_________________________________________________________________\n",
            "block3_conv3 (Conv2D)        (None, 56, 56, 256)       590080    \n",
            "_________________________________________________________________\n",
            "block3_pool (MaxPooling2D)   (None, 28, 28, 256)       0         \n",
            "_________________________________________________________________\n",
            "block4_conv1 (Conv2D)        (None, 28, 28, 512)       1180160   \n",
            "_________________________________________________________________\n",
            "block4_conv2 (Conv2D)        (None, 28, 28, 512)       2359808   \n",
            "_________________________________________________________________\n",
            "block4_conv3 (Conv2D)        (None, 28, 28, 512)       2359808   \n",
            "_________________________________________________________________\n",
            "block4_pool (MaxPooling2D)   (None, 14, 14, 512)       0         \n",
            "_________________________________________________________________\n",
            "block5_conv1 (Conv2D)        (None, 14, 14, 512)       2359808   \n",
            "_________________________________________________________________\n",
            "block5_conv2 (Conv2D)        (None, 14, 14, 512)       2359808   \n",
            "_________________________________________________________________\n",
            "block5_conv3 (Conv2D)        (None, 14, 14, 512)       2359808   \n",
            "_________________________________________________________________\n",
            "block5_pool (MaxPooling2D)   (None, 7, 7, 512)         0         \n",
            "_________________________________________________________________\n",
            "flatten_1 (Flatten)          (None, 25088)             0         \n",
            "_________________________________________________________________\n",
            "dense_1 (Dense)              (None, 4096)              102764544 \n",
            "_________________________________________________________________\n",
            "dropout_1 (Dropout)          (None, 4096)              0         \n",
            "_________________________________________________________________\n",
            "batch_normalization_1 (Batch (None, 4096)              16384     \n",
            "_________________________________________________________________\n",
            "dense_2 (Dense)              (None, 4096)              16781312  \n",
            "_________________________________________________________________\n",
            "dropout_2 (Dropout)          (None, 4096)              0         \n",
            "_________________________________________________________________\n",
            "batch_normalization_2 (Batch (None, 4096)              16384     \n",
            "_________________________________________________________________\n",
            "dense_3 (Dense)              (None, 38)                155686    \n",
            "=================================================================\n",
            "Total params: 134,448,998\n",
            "Trainable params: 126,797,350\n",
            "Non-trainable params: 7,651,648\n",
            "_________________________________________________________________\n"
          ],
          "name": "stdout"
        }
      ]
    },
    {
      "cell_type": "code",
      "metadata": {
        "id": "tK09YR1ET8TG",
        "colab_type": "code",
        "colab": {}
      },
      "source": [
        "\n",
        "weightsfilepath = \"/bestweights.hdf5\"\n",
        "checkpoint = ModelCheckpoint(weightsfilepath, monitor='val_acc', verbose=1, save_best_only=True, save_weights_only=True, mode='max')\n",
        "callbacks_list = [checkpoint]"
      ],
      "execution_count": 0,
      "outputs": []
    },
    {
      "cell_type": "code",
      "metadata": {
        "id": "__9263NBWKoc",
        "colab_type": "code",
        "outputId": "86a827a3-2279-40a1-da63-16bb13323a86",
        "colab": {
          "base_uri": "https://localhost:8080/",
          "height": 632
        }
      },
      "source": [
        "#Entrainement du modèle\n",
        "history = model.fit_generator(training_iterator, steps_per_epoch=len(training_iterator),\n",
        "\t\tvalidation_data=test_iterator, validation_steps=len(test_iterator), epochs=8, callbacks=callbacks_list, verbose=2)"
      ],
      "execution_count": 0,
      "outputs": [
        {
          "output_type": "stream",
          "text": [
            "WARNING:tensorflow:From /usr/local/lib/python3.6/dist-packages/tensorflow/python/ops/math_grad.py:1250: add_dispatch_support.<locals>.wrapper (from tensorflow.python.ops.array_ops) is deprecated and will be removed in a future version.\n",
            "Instructions for updating:\n",
            "Use tf.where in 2.0, which has the same broadcast rule as np.where\n",
            "Epoch 1/8\n",
            " - 869s - loss: 0.4585 - acc: 0.8594 - val_loss: 0.2152 - val_acc: 0.9272\n",
            "\n",
            "Epoch 00001: val_acc improved from -inf to 0.92721, saving model to /bestweights.hdf5\n",
            "Epoch 2/8\n",
            " - 848s - loss: 0.0991 - acc: 0.9665 - val_loss: 0.1126 - val_acc: 0.9610\n",
            "\n",
            "Epoch 00002: val_acc improved from 0.92721 to 0.96102, saving model to /bestweights.hdf5\n",
            "Epoch 3/8\n",
            " - 848s - loss: 0.0572 - acc: 0.9814 - val_loss: 0.0820 - val_acc: 0.9721\n",
            "\n",
            "Epoch 00003: val_acc improved from 0.96102 to 0.97206, saving model to /bestweights.hdf5\n",
            "Epoch 4/8\n",
            " - 848s - loss: 0.0382 - acc: 0.9883 - val_loss: 0.0670 - val_acc: 0.9774\n",
            "\n",
            "Epoch 00004: val_acc improved from 0.97206 to 0.97735, saving model to /bestweights.hdf5\n",
            "Epoch 5/8\n",
            " - 847s - loss: 0.0298 - acc: 0.9907 - val_loss: 0.0631 - val_acc: 0.9786\n",
            "\n",
            "Epoch 00005: val_acc improved from 0.97735 to 0.97860, saving model to /bestweights.hdf5\n",
            "Epoch 6/8\n",
            " - 847s - loss: 0.0226 - acc: 0.9938 - val_loss: 0.0578 - val_acc: 0.9805\n",
            "\n",
            "Epoch 00006: val_acc improved from 0.97860 to 0.98048, saving model to /bestweights.hdf5\n",
            "Epoch 7/8\n",
            " - 847s - loss: 0.0197 - acc: 0.9945 - val_loss: 0.0550 - val_acc: 0.9814\n",
            "\n",
            "Epoch 00007: val_acc improved from 0.98048 to 0.98139, saving model to /bestweights.hdf5\n",
            "Epoch 8/8\n",
            " - 848s - loss: 0.0169 - acc: 0.9960 - val_loss: 0.0549 - val_acc: 0.9822\n",
            "\n",
            "Epoch 00008: val_acc improved from 0.98139 to 0.98219, saving model to /bestweights.hdf5\n"
          ],
          "name": "stdout"
        }
      ]
    },
    {
      "cell_type": "code",
      "metadata": {
        "id": "Nfx1No40Zya-",
        "colab_type": "code",
        "outputId": "b269c58d-1d43-4991-e60f-d3a048e141f3",
        "colab": {
          "base_uri": "https://localhost:8080/",
          "height": 51
        }
      },
      "source": [
        "# évaluation du modèle\n",
        "_, acc = model.evaluate_generator(test_iterator, steps=len(test_iterator), verbose=1)\n",
        "print('> %.3f' % (acc * 100.0))"
      ],
      "execution_count": 0,
      "outputs": [
        {
          "output_type": "stream",
          "text": [
            "138/138 [==============================] - 148s 1s/step\n",
            "> 98.219\n"
          ],
          "name": "stdout"
        }
      ]
    },
    {
      "cell_type": "code",
      "metadata": {
        "id": "_yu9ZdY3zp_6",
        "colab_type": "code",
        "colab": {}
      },
      "source": [
        "# graphes de précision et d'erreur du modèle\n",
        "summarize_diagnostics(history)"
      ],
      "execution_count": 0,
      "outputs": []
    },
    {
      "cell_type": "code",
      "metadata": {
        "id": "cbPbG_9I7r6F",
        "colab_type": "code",
        "colab": {}
      },
      "source": [
        "#sauvegarde du modèle\n",
        "model.save('plantdisease_detection_vgg16model.h5')"
      ],
      "execution_count": 0,
      "outputs": []
    },
    {
      "cell_type": "code",
      "metadata": {
        "id": "nxui7-6g775r",
        "colab_type": "code",
        "outputId": "939b6ea6-77ca-48ca-a47b-517c0d5d91ec",
        "colab": {
          "base_uri": "https://localhost:8080/",
          "height": 51
        }
      },
      "source": [
        "# Test de prédiction\n",
        "img = load_image('../test/AppleScab3.JPG')\n",
        "print(\"Prediction for AppleScab3:\")\n",
        "prediction = model.predict(img)\n",
        "predicted_class_name = class_labels[np.argmax(prediction)]\n",
        "print(\"Detected the leaf as \", predicted_class_name)  "
      ],
      "execution_count": 0,
      "outputs": [
        {
          "output_type": "stream",
          "text": [
            "Prediction for AppleScab3:\n",
            "Detected the leaf as  Squash___Powdery_mildew\n"
          ],
          "name": "stdout"
        }
      ]
    },
    {
      "cell_type": "code",
      "metadata": {
        "id": "TgTtkFj18Cc4",
        "colab_type": "code",
        "outputId": "97407da8-6094-42ad-f283-38718f320b4b",
        "colab": {
          "base_uri": "https://localhost:8080/",
          "height": 578
        }
      },
      "source": [
        "\n",
        "for filename in os.listdir(test_dir):\n",
        "    filepath = test_dir + '/' + filename\n",
        "    img = load_image(filepath)\n",
        "    prediction = model.predict(img)\n",
        "    predicted_class_name = class_labels[np.argmax(prediction)]\n",
        "    print(filename, \"  predicted as \", predicted_class_name)  "
      ],
      "execution_count": 0,
      "outputs": [
        {
          "output_type": "stream",
          "text": [
            "TomatoEarlyBlight2.JPG   predicted as  Tomato___Late_blight\n",
            "PotatoHealthy2.JPG   predicted as  Potato___healthy\n",
            "TomatoYellowCurlVirus1.JPG   predicted as  Tomato___Tomato_Yellow_Leaf_Curl_Virus\n",
            "TomatoYellowCurlVirus6.JPG   predicted as  Tomato___Tomato_Yellow_Leaf_Curl_Virus\n",
            "TomatoEarlyBlight5.JPG   predicted as  Tomato___Early_blight\n",
            "PotatoEarlyBlight2.JPG   predicted as  Potato___Early_blight\n",
            "AppleScab3.JPG   predicted as  Squash___Powdery_mildew\n",
            "PotatoEarlyBlight1.JPG   predicted as  Potato___Early_blight\n",
            "PotatoEarlyBlight5.JPG   predicted as  Potato___Early_blight\n",
            "TomatoYellowCurlVirus2.JPG   predicted as  Tomato___Tomato_Yellow_Leaf_Curl_Virus\n",
            "PotatoHealthy1.JPG   predicted as  Potato___healthy\n",
            "TomatoHealthy1.JPG   predicted as  Tomato___healthy\n",
            "TomatoEarlyBlight1.JPG   predicted as  Tomato___Early_blight\n",
            "AppleScab1.JPG   predicted as  Apple___Apple_scab\n",
            "TomatoHealthy3.JPG   predicted as  Tomato___healthy\n",
            "AppleCedarRust3.JPG   predicted as  Apple___Cedar_apple_rust\n",
            "TomatoEarlyBlight3.JPG   predicted as  Tomato___Early_blight\n",
            "AppleCedarRust1.JPG   predicted as  Apple___Cedar_apple_rust\n",
            "TomatoYellowCurlVirus4.JPG   predicted as  Tomato___Tomato_Yellow_Leaf_Curl_Virus\n",
            "CornCommonRust2.JPG   predicted as  Corn_(maize)___Common_rust_\n",
            "AppleCedarRust4.JPG   predicted as  Apple___Cedar_apple_rust\n",
            "TomatoHealthy4.JPG   predicted as  Tomato___healthy\n",
            "PotatoEarlyBlight4.JPG   predicted as  Potato___Early_blight\n",
            "TomatoEarlyBlight6.JPG   predicted as  Tomato___Early_blight\n",
            "TomatoYellowCurlVirus3.JPG   predicted as  Tomato___Tomato_Yellow_Leaf_Curl_Virus\n",
            "PotatoEarlyBlight3.JPG   predicted as  Potato___Early_blight\n",
            "TomatoYellowCurlVirus5.JPG   predicted as  Tomato___Tomato_Yellow_Leaf_Curl_Virus\n",
            "AppleCedarRust2.JPG   predicted as  Apple___Cedar_apple_rust\n",
            "TomatoEarlyBlight4.JPG   predicted as  Tomato___Early_blight\n",
            "CornCommonRust3.JPG   predicted as  Corn_(maize)___Common_rust_\n",
            "AppleScab2.JPG   predicted as  Apple___Apple_scab\n",
            "CornCommonRust1.JPG   predicted as  Corn_(maize)___Common_rust_\n",
            "TomatoHealthy2.JPG   predicted as  Tomato___healthy\n"
          ],
          "name": "stdout"
        }
      ]
    },
    {
      "cell_type": "code",
      "metadata": {
        "id": "a3eYbhvV9NFa",
        "colab_type": "code",
        "colab": {}
      },
      "source": [
        "#Téléchargement du modèle\n",
        "from google.colab import files\n",
        "files.download('plantdisease_detection_vgg16model.h5')"
      ],
      "execution_count": 0,
      "outputs": []
    },
    {
      "cell_type": "code",
      "metadata": {
        "id": "cqMk8sgAvrC6",
        "colab_type": "code",
        "outputId": "96e36619-2ce8-4d01-8c7a-cbb079f8137a",
        "colab": {
          "base_uri": "https://localhost:8080/",
          "height": 173
        }
      },
      "source": [
        "#Convertion du modèle en format tflite\n",
        "import tensorflow as tf\n",
        "\n",
        "converter = tf.lite.TFLiteConverter.from_keras_model_file('plantdisease_detection_vgg16model.h5')\n",
        "tflite_model = converter.convert()\n",
        "\n",
        "with open('model_vgg.tflite', 'wb') as f:\n",
        "  f.write(tflite_model)"
      ],
      "execution_count": 0,
      "outputs": [
        {
          "output_type": "stream",
          "text": [
            "WARNING:tensorflow:From /usr/local/lib/python3.6/dist-packages/tensorflow/lite/python/util.py:238: convert_variables_to_constants (from tensorflow.python.framework.graph_util_impl) is deprecated and will be removed in a future version.\n",
            "Instructions for updating:\n",
            "Use `tf.compat.v1.graph_util.convert_variables_to_constants`\n",
            "WARNING:tensorflow:From /usr/local/lib/python3.6/dist-packages/tensorflow/python/framework/graph_util_impl.py:270: extract_sub_graph (from tensorflow.python.framework.graph_util_impl) is deprecated and will be removed in a future version.\n",
            "Instructions for updating:\n",
            "Use `tf.compat.v1.graph_util.extract_sub_graph`\n",
            "INFO:tensorflow:Froze 40 variables.\n",
            "INFO:tensorflow:Converted 40 variables to const ops.\n"
          ],
          "name": "stdout"
        }
      ]
    },
    {
      "cell_type": "code",
      "metadata": {
        "id": "-ypm2Y35EDPp",
        "colab_type": "code",
        "outputId": "1570bad2-a236-4e0c-d56e-7b92b6196665",
        "colab": {
          "base_uri": "https://localhost:8080/",
          "height": 54
        }
      },
      "source": [
        "#Création du fichier labels contenant les différentes classes de maladies\n",
        "print (training_iterator.class_indices)\n",
        "\n",
        "labels = '\\n'.join(sorted(training_iterator.class_indices.keys()))\n",
        "\n",
        "with open('labels.txt', 'w') as f:\n",
        "  f.write(labels)"
      ],
      "execution_count": 0,
      "outputs": [
        {
          "output_type": "stream",
          "text": [
            "{'Apple___Apple_scab': 0, 'Apple___Black_rot': 1, 'Apple___Cedar_apple_rust': 2, 'Apple___healthy': 3, 'Blueberry___healthy': 4, 'Cherry_(including_sour)___Powdery_mildew': 5, 'Cherry_(including_sour)___healthy': 6, 'Corn_(maize)___Cercospora_leaf_spot Gray_leaf_spot': 7, 'Corn_(maize)___Common_rust_': 8, 'Corn_(maize)___Northern_Leaf_Blight': 9, 'Corn_(maize)___healthy': 10, 'Grape___Black_rot': 11, 'Grape___Esca_(Black_Measles)': 12, 'Grape___Leaf_blight_(Isariopsis_Leaf_Spot)': 13, 'Grape___healthy': 14, 'Orange___Haunglongbing_(Citrus_greening)': 15, 'Peach___Bacterial_spot': 16, 'Peach___healthy': 17, 'Pepper,_bell___Bacterial_spot': 18, 'Pepper,_bell___healthy': 19, 'Potato___Early_blight': 20, 'Potato___Late_blight': 21, 'Potato___healthy': 22, 'Raspberry___healthy': 23, 'Soybean___healthy': 24, 'Squash___Powdery_mildew': 25, 'Strawberry___Leaf_scorch': 26, 'Strawberry___healthy': 27, 'Tomato___Bacterial_spot': 28, 'Tomato___Early_blight': 29, 'Tomato___Late_blight': 30, 'Tomato___Leaf_Mold': 31, 'Tomato___Septoria_leaf_spot': 32, 'Tomato___Spider_mites Two-spotted_spider_mite': 33, 'Tomato___Target_Spot': 34, 'Tomato___Tomato_Yellow_Leaf_Curl_Virus': 35, 'Tomato___Tomato_mosaic_virus': 36, 'Tomato___healthy': 37}\n"
          ],
          "name": "stdout"
        }
      ]
    },
    {
      "cell_type": "code",
      "metadata": {
        "id": "kGq9oy-n-Fye",
        "colab_type": "code",
        "colab": {}
      },
      "source": [
        "#Téléchargement du modèle tflite et du fichier labels\n",
        "from google.colab import files\n",
        "\n",
        "files.download('model_vgg.tflite')\n",
        "files.download('labels.txt')"
      ],
      "execution_count": 0,
      "outputs": []
    }
  ]
}